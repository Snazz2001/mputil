{
 "cells": [
  {
   "cell_type": "markdown",
   "metadata": {},
   "source": [
    "`mputil` -- Utility functions for Python's multiprocessing standard library module\n",
    "\n",
    "- Author: Sebastian Raschka <mail@sebastianraschka.com>\n",
    "- License: MIT\n",
    "- Code Repository: https://github.com/rasbt/mputil"
   ]
  },
  {
   "cell_type": "markdown",
   "metadata": {},
   "source": [
    "# `lazy_map` and `lazy_imap` examples"
   ]
  },
  {
   "cell_type": "markdown",
   "metadata": {},
   "source": [
    "`lazy_map` and `lazy_imap` are wrappers of the `map` function in Python's [`multiprocessing`](https://docs.python.org/3.6/library/multiprocessing.html) module. These wrappers evaluate the \"iterator\" lazily (in contrast to `map` and `imap`), which can be desirable if the iterator or generator yields objects with large memory footprints. Note that the syntax and use of `lazy_map` and `lazy_imap` do not exactly mimic their respective `map` and `imap` counterparts."
   ]
  },
  {
   "cell_type": "markdown",
   "metadata": {},
   "source": [
    "## `lazy_map`"
   ]
  },
  {
   "cell_type": "markdown",
   "metadata": {},
   "source": [
    "The `lazy_map` function requires a `data_processor` function as input as well as a `data_generator`. The `data_processor` is a function that performs a desired computation on each of the elements of an iterator (`data_generator`). This iterator is typically a Python generator that yields arbitrary objects."
   ]
  },
  {
   "cell_type": "code",
   "execution_count": 1,
   "metadata": {
    "collapsed": true
   },
   "outputs": [],
   "source": [
    "def my_data_processor(x):\n",
    "    # some expensive computation\n",
    "    return x\n",
    "\n",
    "def my_data_generator():\n",
    "    for i in range(20):\n",
    "        yield i\n",
    "    \n",
    "# think of `list(my_data_generator())`\n",
    "# as too large to fit into memory, which is why\n",
    "# we don't want to use map or imap"
   ]
  },
  {
   "cell_type": "markdown",
   "metadata": {},
   "source": [
    "The `lazy_map` function then applies the `data_processor` function to a generator and returns a list containing the values returned by the `data_processor` in sorted order as shown in the example below:"
   ]
  },
  {
   "cell_type": "code",
   "execution_count": 2,
   "metadata": {},
   "outputs": [
    {
     "name": "stdout",
     "output_type": "stream",
     "text": [
      "[0, 1, 2, 3, 4, 5, 6, 7, 8, 9, 10, 11, 12, 13, 14, 15, 16, 17, 18, 19]\n"
     ]
    }
   ],
   "source": [
    "from mputil import lazy_map\n",
    "\n",
    "gen = my_data_generator()\n",
    "print(lazy_map(data_processor=my_data_processor, \n",
    "               data_generator=gen, \n",
    "               n_cpus=0))"
   ]
  },
  {
   "cell_type": "markdown",
   "metadata": {},
   "source": [
    "In the example above, `n_cpus` specifies the number of CPUs being used.\n",
    "\n",
    "    - If `n_cpus` > 0, the specified number of CPUs will be used.\n",
    "    - If `n_cpus=0`, all available CPUs will be used.\n",
    "    - If `n_cpus` < 0, all available CPUs - `n_cpus` will be used."
   ]
  },
  {
   "cell_type": "markdown",
   "metadata": {},
   "source": [
    "## `lazy_imap`"
   ]
  },
  {
   "cell_type": "markdown",
   "metadata": {},
   "source": [
    "The `lazy_imap` generator is similar to `lazy_map` function, but the results are returned in \"chunks\" (in sorted oder), which can be useful of the result list itself is too large to fit into memory. Like in `lazy_map`, the \"iterator\" (here: `data_generator`) is also evaluated lazily. The example below demonstrates the use of `lazy_imap`:"
   ]
  },
  {
   "cell_type": "code",
   "execution_count": 1,
   "metadata": {},
   "outputs": [
    {
     "name": "stdout",
     "output_type": "stream",
     "text": [
      "[0, 1, 2, 3]\n",
      "[4, 5, 6, 7]\n",
      "[8, 9, 10, 11]\n",
      "[12, 13, 14, 15]\n",
      "[16, 17, 18, 19]\n",
      "[20, 21]\n"
     ]
    }
   ],
   "source": [
    "from mputil import lazy_imap\n",
    "\n",
    "def my_data_processor(x):\n",
    "    # some expensive computation\n",
    "    return x\n",
    "\n",
    "def my_data_generator():\n",
    "    for i in range(22):\n",
    "        yield i\n",
    "\n",
    "gen = my_data_generator()\n",
    "\n",
    "for chunk in lazy_imap(data_processor=my_data_processor, \n",
    "                       data_generator=gen, \n",
    "                       n_cpus=0):\n",
    "    print(chunk)"
   ]
  },
  {
   "cell_type": "markdown",
   "metadata": {},
   "source": [
    "Note that the number of elements in each return-list is by default equal to the number of CPUs being used. (The example above was run on a machine with 4 CPUs, thus each list consists of 4 elements).\n",
    "\n",
    "We can increase or decrease the number of elements in each return-list using the `stepsize` parameter; the `stepsize` determines how many values from the `data_generator` are evaluated are fetched in one `lazy_imap` iteration. If the number of objects that can be fetched from `data_generator` is not evenly divisible by `stepsize`, the number of elements in the last result-list is smaller than `stepsize` as shown in the example below:"
   ]
  },
  {
   "cell_type": "code",
   "execution_count": 2,
   "metadata": {},
   "outputs": [
    {
     "name": "stdout",
     "output_type": "stream",
     "text": [
      "[0, 1, 2, 3, 4, 5]\n",
      "[6, 7, 8, 9, 10, 11]\n",
      "[12, 13, 14, 15, 16, 17]\n",
      "[18, 19, 20, 21]\n"
     ]
    }
   ],
   "source": [
    "gen = my_data_generator()\n",
    "\n",
    "for chunk in lazy_imap(data_processor=my_data_processor, \n",
    "                       data_generator=gen,\n",
    "                       stepsize=6,\n",
    "                       n_cpus=0):\n",
    "    print(chunk)"
   ]
  }
 ],
 "metadata": {
  "kernelspec": {
   "display_name": "Python 3",
   "language": "python",
   "name": "python3"
  },
  "language_info": {
   "codemirror_mode": {
    "name": "ipython",
    "version": 3
   },
   "file_extension": ".py",
   "mimetype": "text/x-python",
   "name": "python",
   "nbconvert_exporter": "python",
   "pygments_lexer": "ipython3",
   "version": "3.6.1"
  }
 },
 "nbformat": 4,
 "nbformat_minor": 2
}
